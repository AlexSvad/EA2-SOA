{
  "nbformat": 4,
  "nbformat_minor": 0,
  "metadata": {
    "colab": {
      "name": "Rivas_Svadeba_Alex_ejercicio_3.ipynb",
      "provenance": [],
      "collapsed_sections": [],
      "toc_visible": true
    },
    "kernelspec": {
      "name": "python3",
      "display_name": "Python 3"
    },
    "accelerator": "GPU"
  },
  "cells": [
    {
      "cell_type": "markdown",
      "metadata": {
        "id": "qoYPFWcielY3"
      },
      "source": [
        "# 1 Introducción\n",
        "\n",
        "Se realizará el cálculo del índice de masa coporal (IMC) a partir de un dataset con los datos del peso y altura de una población con computación paralela utilizando PyOpenCL. \n",
        "\n",
        "El IMC es un indicador de la grasa corporal en muchos individuo y se considera como indicador del riesgo para la salud.\n",
        "\n",
        "Este índice, es utilizado por los profesionales de la atención sanitaria para analizar problemas relacionado con la obesidad. El BMI (en inglés) se utiliza para fijar los riesgos para la salud de una persona asociados a obesidad y exceso de peso.\n",
        "\n",
        "El cálculo del IMC se realiza según la fórmula del IMC usando el sistema métrico. Es el peso en kilogramos divido por la altura (estatura en metros) al cuadrado obteniendo la siguiente ecuación:\n",
        "\n",
        "<center>$ IMC=Peso(kg)/Altura(m)^{2}$</center>\n",
        "\n",
        "El objetivo de este ejercicio es calcular un índice forma paralela utilizando PyOpenCL. De esta forma, pueden ser aplicables a datasets de grandes tamaños que incluyan gran cantidad de información de la población, en este caso, se realizará el cálculo de la IMC de un dataset de poco tamaño demostrativo y ejemplificador que puede ser escalable y de gran utilidad en el estudio de la salud de la población."
      ]
    },
    {
      "cell_type": "markdown",
      "metadata": {
        "id": "32YB71STfPcy"
      },
      "source": [
        "---\n",
        "# 2 Armado del ambiente\n",
        "Se debe colocar la URL del dataset que contenga la información del peso y la altura de los ciudadanos. El formato es peso segudio de una coma \",\" seguido de la altura siendo ambos números de tipo float."
      ]
    },
    {
      "cell_type": "code",
      "metadata": {
        "id": "QcnL4UkAN7ub"
      },
      "source": [
        "#@title # 2.1 Parámetros de ejecución\n",
        "#@markdown ---\n",
        "#@markdown ### Especifique la URL del dataset con los datos de peso y altura de la población:\n",
        "url_dataset = \"https://raw.githubusercontent.com/AlexSvad/EA2-SOA/master/HPC/Ejercicio%203/datos_ciudadanos.txt\" #@param {type:\"string\"}\n",
        "if url_dataset.find(\".txt\") == -1:\n",
        "    raise Exception(\"El dataset debe ser de un formato válido. En este caso debe ser .txt.\")"
      ],
      "execution_count": 31,
      "outputs": []
    },
    {
      "cell_type": "markdown",
      "metadata": {
        "id": "3GLsQ34ysP4_"
      },
      "source": [
        "## 2.2 Instalar en el cuaderno el módulo CUDA de Python."
      ]
    },
    {
      "cell_type": "code",
      "metadata": {
        "id": "ropgS48tsRTv",
        "colab": {
          "base_uri": "https://localhost:8080/"
        },
        "outputId": "9a8ff1e3-7f70-4809-f330-052df01e3ccb"
      },
      "source": [
        "!pip install pycuda"
      ],
      "execution_count": 1,
      "outputs": [
        {
          "output_type": "stream",
          "text": [
            "Requirement already satisfied: pycuda in /usr/local/lib/python3.6/dist-packages (2020.1)\n",
            "Requirement already satisfied: mako in /usr/local/lib/python3.6/dist-packages (from pycuda) (1.1.3)\n",
            "Requirement already satisfied: decorator>=3.2.0 in /usr/local/lib/python3.6/dist-packages (from pycuda) (4.4.2)\n",
            "Requirement already satisfied: appdirs>=1.4.0 in /usr/local/lib/python3.6/dist-packages (from pycuda) (1.4.4)\n",
            "Requirement already satisfied: pytools>=2011.2 in /usr/local/lib/python3.6/dist-packages (from pycuda) (2020.4.3)\n",
            "Requirement already satisfied: MarkupSafe>=0.9.2 in /usr/local/lib/python3.6/dist-packages (from mako->pycuda) (1.1.1)\n",
            "Requirement already satisfied: dataclasses>=0.7; python_version <= \"3.6\" in /usr/local/lib/python3.6/dist-packages (from pytools>=2011.2->pycuda) (0.7)\n",
            "Requirement already satisfied: six>=1.8.0 in /usr/local/lib/python3.6/dist-packages (from pytools>=2011.2->pycuda) (1.15.0)\n",
            "Requirement already satisfied: numpy>=1.6.0 in /usr/local/lib/python3.6/dist-packages (from pytools>=2011.2->pycuda) (1.18.5)\n"
          ],
          "name": "stdout"
        }
      ]
    },
    {
      "cell_type": "markdown",
      "metadata": {
        "id": "i8bbOnFkyhi1"
      },
      "source": [
        "## 2.3 Instalar en el cuaderno el módulo OpenCL de Python."
      ]
    },
    {
      "cell_type": "code",
      "metadata": {
        "colab": {
          "base_uri": "https://localhost:8080/"
        },
        "id": "DqzNbQ8DM2V7",
        "outputId": "fb694d14-e53c-44f7-902e-4b97b5fa6951"
      },
      "source": [
        "!pip install pyopencl"
      ],
      "execution_count": 2,
      "outputs": [
        {
          "output_type": "stream",
          "text": [
            "Requirement already satisfied: pyopencl in /usr/local/lib/python3.6/dist-packages (2020.3.1)\n",
            "Requirement already satisfied: numpy in /usr/local/lib/python3.6/dist-packages (from pyopencl) (1.18.5)\n",
            "Requirement already satisfied: appdirs>=1.4.0 in /usr/local/lib/python3.6/dist-packages (from pyopencl) (1.4.4)\n",
            "Requirement already satisfied: decorator>=3.2.0 in /usr/local/lib/python3.6/dist-packages (from pyopencl) (4.4.2)\n",
            "Requirement already satisfied: pytools>=2017.6 in /usr/local/lib/python3.6/dist-packages (from pyopencl) (2020.4.3)\n",
            "Requirement already satisfied: six>=1.8.0 in /usr/local/lib/python3.6/dist-packages (from pytools>=2017.6->pyopencl) (1.15.0)\n",
            "Requirement already satisfied: dataclasses>=0.7; python_version <= \"3.6\" in /usr/local/lib/python3.6/dist-packages (from pytools>=2017.6->pyopencl) (0.7)\n"
          ],
          "name": "stdout"
        }
      ]
    },
    {
      "cell_type": "markdown",
      "metadata": {
        "id": "Xt4Pea0Psrx_"
      },
      "source": [
        "---\n",
        "# 3 Desarrollo\n",
        "Ejecución del algoritmo del cálculo del IMC"
      ]
    },
    {
      "cell_type": "code",
      "metadata": {
        "id": "8_uVXVJjz_Jr",
        "colab": {
          "base_uri": "https://localhost:8080/"
        },
        "outputId": "4c28926b-9a8d-4ff7-8ab3-2a834dacd89c"
      },
      "source": [
        "import pyopencl as cl  # Se importa la API de OpenCL GPU de Python\n",
        "import numpy as np\n",
        "import pandas as pd\n",
        "\n",
        "#Se lee los datos de los ciudadanos, el dataset debe estar conformado por el peso en KG seguido de una , la altura en centrímetros : [KG],[Altura]\n",
        "try:\n",
        "  df = pd.read_csv(url_dataset, names=['Peso','Altura'])\n",
        "except:\n",
        "   raise Exception(\"Error. El dataset posee un formato incorrecto. Debe tener el formato de Peso,Altura siendo floats ambos números\")\n",
        "\n",
        "#Se selecciona la plataforma, en este caso la primera por ser un entorno virtualizado\n",
        "plataforma = cl.get_platforms()[0]\n",
        "\n",
        "#Se selecciona el dispositivo, en este caso el primero por ser un entorno virtualizado\n",
        "device = plataforma.get_devices()[0]\n",
        "\n",
        "#Se crea el contexto del dispositivo (De la GPU virtual)\n",
        "contexto = cl.Context([device])\n",
        "\n",
        "#Se crea una cola de comandos a partir del contexto creado\n",
        "cola = cl.CommandQueue(contexto) \n",
        "\n",
        "#Se crea un vector que contendrá el peso en KG\n",
        "np_peso = np.copy(df[['Peso']]).astype(np.float32)\n",
        "\n",
        "#Se crea un vector que contendrá la altura en CM\n",
        "np_altura = np.copy(df[['Altura']]).astype(np.float32)\n",
        "\n",
        "#Se crea un vector vacío que contendrá el resultado del IMC (índice de masa corporal)\n",
        "np_imc = np.empty_like(np_peso)\n",
        "\n",
        "#Se crea tres buffers correspondientes a las áreas de memoria del dispositivo GPU\n",
        "cl_peso = cl.Buffer(contexto, cl.mem_flags.COPY_HOST_PTR, hostbuf=np_peso)\n",
        "cl_altura = cl.Buffer(contexto, cl.mem_flags.COPY_HOST_PTR, hostbuf=np_altura)\n",
        "cl_imc = cl.Buffer(contexto, cl.mem_flags.WRITE_ONLY, np_imc.nbytes)\n",
        "\n",
        "#Se define el kernel con la función que calculará el IMC en forma paralela\n",
        "kernel = \\\n",
        "\"\"\"\n",
        "__kernel void calculo_imc(__global float* p, __global float* a, __global float* imc)\n",
        "{\n",
        "    int i = get_global_id(0);\n",
        "    imc[i] = p[i] / ((a[i]/100)*(a[i]/100)); // El IMC del ciudadano se calcula: KG/Altura²\n",
        "}\n",
        "\"\"\"\n",
        "\n",
        "#Se compila el código del kernel en OpenCL\n",
        "programa = cl.Program(contexto, kernel).build()\n",
        "programa.calculo_imc(cola, np_peso.shape, None, cl_peso, cl_altura, cl_imc)\n",
        "\n",
        "#Se encola el programa para su ejecución, haciendo que los datos se copien al dispositivo\n",
        "# - cola: la cola de comandos a la que se enviará el programa\n",
        "# - np_peso.shape: una tupla de las dimensiones de los arrays\n",
        "# - cl_peso, cl_altura, cl_imc: los espacios de memoria correspondiente a los arrays de peso, altura y los resultados del IMC\n",
        "\n",
        "cola.finish()\n",
        "np_arrays = [np_peso, np_altura, np_imc]\n",
        "cl_arrays = [cl_peso, cl_altura, cl_imc]\n",
        "\n",
        "#Se copia los resultados del IMC al host\n",
        "for x in range(3):\n",
        "    cl.enqueue_copy(cola, np_arrays[x], cl_arrays[x])\n",
        "\n",
        "#Se guarda los resultados en un array\n",
        "resultado_arr = {\"Pesos de los ciudadanos\":np_peso, \"Alturas de los ciudadanos\":np_altura, \"Cálculo IMC\":np_imc}\n",
        "\n",
        "#Se imprime los resultados\n",
        "for k in resultado_arr:\n",
        "    print (\"\\n\" + k + \":\\n\\n\", resultado_arr[k])"
      ],
      "execution_count": 28,
      "outputs": [
        {
          "output_type": "stream",
          "text": [
            "\n",
            "Pesos de los ciudadanos:\n",
            "\n",
            " [[ 68. ]\n",
            " [ 66.5]\n",
            " [ 78. ]\n",
            " [ 58.1]\n",
            " [ 60.4]\n",
            " [ 60.9]\n",
            " [105.9]\n",
            " [ 90.6]\n",
            " [ 72.5]\n",
            " [ 80.6]\n",
            " [ 68.8]\n",
            " [ 82.4]\n",
            " [ 97.5]\n",
            " [ 70.8]\n",
            " [ 49.8]\n",
            " [ 56.4]\n",
            " [ 84.7]\n",
            " [ 54. ]\n",
            " [ 72.4]\n",
            " [ 85.1]\n",
            " [ 55.1]\n",
            " [ 84.8]\n",
            " [ 56.7]\n",
            " [ 51.8]\n",
            " [ 79. ]\n",
            " [ 59.8]\n",
            " [ 49.1]\n",
            " [ 63.2]\n",
            " [ 86.7]\n",
            " [ 49.1]\n",
            " [ 77.7]\n",
            " [ 83.5]\n",
            " [ 92.2]\n",
            " [ 61.1]\n",
            " [ 60.7]\n",
            " [ 85.8]\n",
            " [ 69.7]\n",
            " [ 55. ]\n",
            " [ 95.9]\n",
            " [ 80.6]]\n",
            "\n",
            "Alturas de los ciudadanos:\n",
            "\n",
            " [[165. ]\n",
            " [156.8]\n",
            " [185. ]\n",
            " [140. ]\n",
            " [133.5]\n",
            " [154. ]\n",
            " [196. ]\n",
            " [179. ]\n",
            " [167. ]\n",
            " [178.9]\n",
            " [144. ]\n",
            " [164. ]\n",
            " [185. ]\n",
            " [174. ]\n",
            " [138. ]\n",
            " [147. ]\n",
            " [185. ]\n",
            " [157.5]\n",
            " [176. ]\n",
            " [187. ]\n",
            " [147. ]\n",
            " [186.1]\n",
            " [157.1]\n",
            " [136. ]\n",
            " [175. ]\n",
            " [156.9]\n",
            " [148.1]\n",
            " [164. ]\n",
            " [185.6]\n",
            " [149. ]\n",
            " [175.9]\n",
            " [188.8]\n",
            " [195.5]\n",
            " [165. ]\n",
            " [163.3]\n",
            " [181. ]\n",
            " [167. ]\n",
            " [152.2]\n",
            " [186.5]\n",
            " [171.1]]\n",
            "\n",
            "Cálculo IMC:\n",
            "\n",
            " [[24.977045]\n",
            " [27.047651]\n",
            " [22.790361]\n",
            " [29.642857]\n",
            " [33.89023 ]\n",
            " [25.678867]\n",
            " [27.566643]\n",
            " [28.276272]\n",
            " [25.995913]\n",
            " [25.183401]\n",
            " [33.179016]\n",
            " [30.636528]\n",
            " [28.487951]\n",
            " [23.38486 ]\n",
            " [26.149967]\n",
            " [26.10024 ]\n",
            " [24.747993]\n",
            " [21.768711]\n",
            " [23.372934]\n",
            " [24.335838]\n",
            " [25.498638]\n",
            " [24.485168]\n",
            " [22.973688]\n",
            " [28.006052]\n",
            " [25.795918]\n",
            " [24.291555]\n",
            " [22.385733]\n",
            " [23.49792 ]\n",
            " [25.168835]\n",
            " [22.116121]\n",
            " [25.112467]\n",
            " [23.425156]\n",
            " [24.12334 ]\n",
            " [22.442608]\n",
            " [22.762308]\n",
            " [26.18968 ]\n",
            " [24.991932]\n",
            " [23.74288 ]\n",
            " [27.571535]\n",
            " [27.531826]]\n"
          ],
          "name": "stdout"
        }
      ]
    },
    {
      "cell_type": "markdown",
      "metadata": {
        "id": "zqAv4Gt7qRrh"
      },
      "source": [
        "---\n",
        "# 4 Tabla de pasos\n",
        "\n",
        "\n",
        " Procesador | Función | Detalle\n",
        "------------|---------|----------\n",
        "CPU      |  url_dataset       | Lectura de la direcciún URL del dataset (txt) a procesar.\n",
        "CPU      | !pip install pycuda    | Instala en el cuaderno los driver de CUDA para Python.\n",
        "CPU      | !pip install pyopencl    | Instala en el cuaderno los drivers de OpenCL de Python.\n",
        "CPU      |  import                | Importa los módulos para funcionar.\n",
        "CPU      |  read_csv()          | Lee el dataset sugún la URL contenida en url_dataset.\n",
        "CPU      |  names=['Peso','Altura']         | Se definen las columnas del dataset.\n",
        "**GPU**      |  get_platforms()          | Obtiene las plataformas del entorno.\n",
        "**GPU**      |  get_devices()          | Obtiene las dispositivos del entorno.\n",
        "**GPU**     |  Context([device])          | Crea el contexto del dispositivo (De la GPU virtual).\n",
        "CPU      |  CommandQueue(contexto)           | Crea una cola de comandos a partir del contexto creado.\n",
        "CPU      |  df[[]]           | Procesa según la columna del dataset leído.\n",
        "CPU      |  np.copy() | Copia y asigna el array enviado en como parámetro.\n",
        "CPU      |  np.astype() | Define el tipo del array.\n",
        "CPU      |  np.empty_like() | Genera el array destino vacío con el tamaño del array enviado como parámetro.\n",
        "**GPU**     |  cl.Buffer() | Genera buffers correspondientes a las áreas de memoria del dispositivo GPU.\n",
        "**GPU**  |  cl.Program().build()     | Compila el código del kernel en OpenCL.\n",
        "**GPU**  |  programa.calculo_imc()    | Se define la función del cálculo del IMC del kernel y se encola el programa para su ejecución.\n",
        "**GPU**  |   cl.enqueue_copy()    | Se copian los datos al dispositivo.\n",
        "CPU      | print()   | Imprime los resultados.\n",
        "\n",
        "\n"
      ]
    },
    {
      "cell_type": "markdown",
      "metadata": {
        "id": "Qtiz4_7bmaDe"
      },
      "source": [
        "---\n",
        "# 5 Conclusiones\n",
        "\n",
        "En conclusión, es posible procesar datasets con grandes volúmenes de datos con el motivo de realizar índices y estudios sobre una población utilizando procesamiento de forma paralela para lograr una mayor eficiencia a diferencia de la forma secuencial. Este ejercicio demostrativo realizado en PyOpenCL es un pequeño ejemplo del gran potencial que ofrece la computación paralela en el estudio de salud de la población al momento de procesar millones de registros de un país o varios países para realizar cálculos estádisticos, analizar la salud de los habitantes, realizar comparaciones y estudios de índices poblacionales. "
      ]
    },
    {
      "cell_type": "markdown",
      "metadata": {
        "id": "ufDYy0LPmbYH"
      },
      "source": [
        "---\n",
        "# 6 Bibliografía\n",
        "\n",
        "[1] Estudio IMC Argentina: [PDF](https://www.sap.org.ar/docs/institucional/Del%20Pino.pdf)\n",
        "\n",
        "[2] Importancia del IMC: [Página BMI](https://www.news-medical.net/health/What-is-Body-Mass-Index-(BMI)-(Spanish).aspx) \n",
        "\n",
        "[3] Fórmula del IMC: [Página healthy](https://www.healthychildren.org/Spanish/health-issues/conditions/obesity/Paginas/body-mass-index-formula.aspx) \n",
        "\n",
        "[4] Datasets de Argentina: [Página Oficial](https://datos.gob.ar/dataset)\n"
      ]
    }
  ]
}