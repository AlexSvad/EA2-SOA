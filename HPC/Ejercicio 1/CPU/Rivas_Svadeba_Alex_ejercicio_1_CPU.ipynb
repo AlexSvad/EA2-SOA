{
  "nbformat": 4,
  "nbformat_minor": 0,
  "metadata": {
    "colab": {
      "name": "Rivas_Svadeba_Alex_ejercicio_1_CPU.ipynb",
      "private_outputs": true,
      "provenance": [],
      "collapsed_sections": []
    },
    "kernelspec": {
      "display_name": "Python 3",
      "name": "python3"
    },
    "accelerator": "TPU"
  },
  "cells": [
    {
      "cell_type": "markdown",
      "metadata": {
        "id": "Zw-Vno_15t-E"
      },
      "source": [
        "# 1 Introducción\n",
        "El siguiente cuaderno realiza el cálculo de un segmento de la sucesión de Fibonacci utilizando CPU.\n",
        "\n",
        "Este cuaderno de Colab presenta una solución a financistas que usan las matemáticas para establecer pronósticos y tendencias de acciones alcistas y retrocesos en dichos mercados, estableciendo las posibles tendencias a partir de un análisis de la sucesión de Fibonacci, que es una secuencia infinita de números que comienza con 0,1,1,2,3,5,8,13,21,34… donde siempre el número que sigue es igual a la suma de los dos inmediatamente anteriores. \n",
        "\n",
        "Esta sucesión se presenta en muchos aspectos de la naturaleza, como por ejemplo en la cría de conejos, crecimiento de las hojas, número de hojas de las flores, etc.\n",
        "\n",
        "Al tratar de medir y pronosticar las alzas y bajas de los precios de las acciones se establecen ciclos, donde el precio fluctúa dentro de patrones que se pueden, de cierta manera, pronosticar utilizando elementos que ofrece la sucesión de Fibonacci. \n",
        "\n",
        "y es la que permite encontrar el número phi, que es llamado “el número de oro”, el cual se obtiene calculando el límite cuando “n” tiende a infinito del cociente de dos números consecutivos de dicha sucesión. \n",
        "\n",
        "\n",
        "La ecuación de fibonacci para un elemento de la serie es:\n",
        "\n",
        "# <center>$f_{n}=\\frac{(\\frac{1+\\sqrt{5}}{2})^n-(\\frac{1-\\sqrt{5}}{2})^n}{\\sqrt{5}}$</center>\n",
        "\n",
        "\n",
        "El objetivo de este cuaderno es calcular en un rango la sucesión de fibonacci de una forma óptima en CPU de forma secuencial. La idea es que pueda ser incorporado en algún software de trader o uso personal con motivo de aplicarlo en alzas y activos bursátiles."
      ]
    },
    {
      "cell_type": "markdown",
      "metadata": {
        "id": "7cRnhv_7N4Pa"
      },
      "source": [
        "---\n",
        "# 2 Armado del ambiente\n",
        "No es necesario instalar el entorno de CUDA de Python."
      ]
    },
    {
      "cell_type": "markdown",
      "metadata": {
        "id": "NzQaWRTtc1Zj"
      },
      "source": [
        "---\n",
        "# 3 Desarrollo\n",
        "Ejecuta el Código CPU - GPU."
      ]
    },
    {
      "cell_type": "code",
      "metadata": {
        "id": "9c7mZSnu0M3m"
      },
      "source": [
        "#@title 3.1 Parámetros de ejecución { vertical-output: true }\n",
        "\n",
        "#@markdown Posición en la cual se inicia el cálculo de la secuencia de fibonacci:\n",
        "inicio_fib = 0 #@param {type:\"number\"}\n",
        "\n",
        "#@markdown Posición en la cual termina el cálculo de la secuencia de fibonacci:\n",
        "fin_fib =  150#@param {type:\"number\"}\n",
        "\n",
        "if inicio_fib < 0 or fin_fib < 0 :\n",
        "    raise Exception(\"Los límites deben ser positivos\")\n",
        "\n",
        "if fin_fib < inicio_fib:\n",
        "    raise Exception(\"El límite final de la secuencia debe ser mayor que el de inicio\")\n",
        "\n",
        "cant = fin_fib - inicio_fib\n",
        "\n",
        "if cant <= 1 :\n",
        "   raise Exception(\"No es suficiente esta cantidad para calcular la sucesión\")\n",
        "\n",
        "# --------------------------------------------\n",
        "\n",
        "from datetime import datetime\n",
        "\n",
        "tiempo_total = datetime.now()\n",
        "\n",
        "import math\n",
        "import numpy as np\n",
        "\n",
        "# --------------------------------------------\n",
        "\n",
        "# Definición de función que transforma el tiempo en  milisegundos \n",
        "tiempo_en_ms = lambda dt:(dt.days * 24 * 60 * 60 + dt.seconds) * 1000 + dt.microseconds / 1000.0\n",
        "\n",
        "raiz_5 = math.sqrt( 5 )\n",
        "phi1 = (raiz_5 + 1) / 2;\n",
        "phi2 = (raiz_5 - 1) / 2;\n",
        "\n",
        "# CPU - Defino la memoria de los vectores en cpu.\n",
        "x_cpu = np.zeros( fin_fib )\n",
        "x_cpu = x_cpu.astype( np.double() )\n",
        "\n",
        "y_cpu = np.zeros( fin_fib )\n",
        "y_cpu = y_cpu.astype( np.double() )\n",
        "\n",
        "#CPU - Se inicializa el primer elemento\n",
        "x_cpu[1] = 1\n",
        "\n",
        "#CPU - Se inicializa el vector\n",
        "for j in range(fin_fib):\n",
        "    x_cpu[j] = j;\n",
        "\n",
        "#CPU - Se crea el vector resultado\n",
        "r_cpu = np.empty_like( y_cpu )\n",
        "\n",
        "inicio = datetime.now()\n",
        "\n",
        "for i in x_cpu:\n",
        "  if(i > inicio_fib and i < fin_fib):\n",
        "        y_cpu[int(i)] = np.around((np.power(phi1,x_cpu[int(i)]) - np.power(phi2,x_cpu[int(i)])) / raiz_5)\n",
        "\n",
        "fin = datetime.now()\n",
        "\n",
        "# CPU - Copio el resultado EN CPU.\n",
        "r_cpu = np.copy(y_cpu)\n",
        "\n",
        "# CPU - Se eliminan los 0 sobrantes\n",
        "r_cpu = np.delete(r_cpu, np.where(r_cpu == 0))\n",
        "\n",
        "#@markdown ---\n",
        "#@markdown 3.2 Resultados del algoritmo:\n",
        "#@markdown ---\n",
        "\n",
        "#CPU - Informo el resutlado.\n",
        "print( \"------------------------------------\\n\")\n",
        "print( \"Cantidad de elementos calculados de la secuencia de fibonacci: \",cant)\n",
        "print( \"\\nLa secuencia de fibonacci desde la posición \",inicio_fib,\" hasta la posición \",fin_fib,\" es:\\n\")\n",
        "print( r_cpu )\n",
        "print (\"\\nTiempo de ejecución en CPU: %.5f ms\"%tiempo_en_ms(fin-inicio))\n"
      ],
      "execution_count": null,
      "outputs": []
    },
    {
      "cell_type": "markdown",
      "metadata": {
        "id": "EALIlyyG6iqP"
      },
      "source": [
        "---\n",
        "# 4 Tabla de pasos de ejecución del programa\n",
        "\n",
        "\n",
        " Procesador | Función | Detalle\n",
        "------------|---------|----------\n",
        "CPU      |  @inicio_fib                | Lectura de la posición en la cual se inicia el cálculo de la secuencia de fibonacci.\n",
        "CPU      |  @fin_fib                 | Lectura de la posición en la cual se inicia el cálculo de la secuencia de fibonacci.\n",
        "CPU      |  import                | Importa los módulos para funcionar.\n",
        "CPU      |  datetime.now()        | Toma el tiempo actual.\n",
        "CPU      |  np.array() | Genera los arrays.\n",
        "CPU      |  astype() | Define el tipo de dato.\n",
        "CPU      |  for()      | Se calcula la secuencia de Fibonacci.\n",
        "CPU      |  np.copy()     | Copia el resultado desde CPU memoria y_cpu a CPU memoria r_cpu.\n",
        "CPU      |  np.where() | Busca un elemento en el array.\n",
        "CPU      |  np.delete() | Elimina la posición del array.\n",
        "CPU      |  print()               | Informo los resultados.\n",
        "\n"
      ]
    },
    {
      "cell_type": "markdown",
      "metadata": {
        "id": "TzgZkrQD-UTy"
      },
      "source": [
        "---\n",
        "# 5 Conclusiones\n",
        "A partir de este ejercicio se puede obtener la sucesión de fibonacci a partir de una posición de inicio y una posición de fin en CPU de forma secuencial. \n",
        "\n",
        "Actualmente se imprime la sucesión resultante, sin embargo, esta herramienta puede adaptarse con poco código a ser un servicio y proveer una API para consumir este servicio y ser utilizado en las herramientas de trading, software que lo requiera o para uso personal.\n"
      ]
    },
    {
      "cell_type": "markdown",
      "metadata": {
        "id": "6hn6HOCYEjyY"
      },
      "source": [
        "---\n",
        "# 6 Bibliografia\n",
        "\n",
        "[1] Fibonacci en los Negocios “Acerca de un modelo matemático para pronósticos financieros\": [PDF](https://www.researchgate.net/publication/331286689_Fibonacci_en_los_Negocios_Acerca_de_un_modelo_matematico_para_pronosticos_financieros/link/5c704568299bf1268d1e02c3/download)\n",
        "\n",
        "[2] ¿Qué es la sucesión de Fibonacci?: [WEB](https://www.vix.com/es/btg/curiosidades/4461/que-es-la-sucesion-de-fibonacci) \n",
        "\n",
        "[3] Función Axpy de biblioteca BLAS: [Referencia](https://software.intel.com/content/www/us/en/develop/documentation/mkl-developer-reference-c/top/blas-and-sparse-blas-routines/blas-routines/blas-level-1-routines-and-functions/cblas-axpy.html)\n",
        "\n",
        "[4] Fibonacci: Su aplicación práctica en trading: [WEB](https://www.finanzas.com/mercados/fibonacci-su-aplicacion-practica-en-trading_13912283_102.html)\n",
        "\n",
        "[5] Documentación PyCUDA: [WEB](https://documen.tician.de/pycuda/index.html)\n",
        "\n",
        "[6] Repositorio de PyCUDA: [WEB](https://pypi.python.org/pypi/pycuda)\n",
        "\n",
        "[7] Los numeros de Fibonacci: [Video](https://www.youtube.com/watch?v=g1XprJDE17Q&feature=emb_title)\n",
        "\n",
        "\n"
      ]
    },
    {
      "cell_type": "code",
      "metadata": {
        "id": "EQ5Kph_t2x1L"
      },
      "source": [
        "%%html\n",
        "<marquee style='width: 30%; color: blue;'><b>Ejercicio 1 en CPU de la Evaluación de Aprendizaje 3!</b></marquee>"
      ],
      "execution_count": null,
      "outputs": []
    }
  ]
}